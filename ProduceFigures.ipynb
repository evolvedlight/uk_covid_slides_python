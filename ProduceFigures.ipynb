{
 "cells": [
  {
   "cell_type": "code",
   "execution_count": 1,
   "id": "acting-catering",
   "metadata": {},
   "outputs": [],
   "source": [
    "import slidetemplater.api"
   ]
  },
  {
   "cell_type": "code",
   "execution_count": 2,
   "id": "nominated-situation",
   "metadata": {},
   "outputs": [],
   "source": [
    "data = { 'PctAvoidedContact': 89, 'PctFaceCoverings': 97, 'PctWashingHands': 90  }"
   ]
  },
  {
   "cell_type": "code",
   "execution_count": 3,
   "id": "distinct-oracle",
   "metadata": {},
   "outputs": [
    {
     "name": "stdout",
     "output_type": "stream",
     "text": [
      "{'JsonData': '{\"PctAvoidedContact\": 89, \"PctFaceCoverings\": 97, \"PctWashingHands\": 90}'}\n"
     ]
    }
   ],
   "source": [
    "result = slidetemplater.api.convert(open('Matching.pptx', 'rb'), data = data)"
   ]
  },
  {
   "cell_type": "code",
   "execution_count": 4,
   "id": "vietnamese-lemon",
   "metadata": {},
   "outputs": [],
   "source": [
    "f = open('MatchingResult.pptx', 'w+b')\n",
    "f.write(result)\n",
    "f.close()"
   ]
  },
  {
   "cell_type": "code",
   "execution_count": 5,
   "id": "standing-surge",
   "metadata": {},
   "outputs": [],
   "source": [
    "from IPython.display import FileLink"
   ]
  },
  {
   "cell_type": "code",
   "execution_count": 7,
   "id": "aging-elevation",
   "metadata": {},
   "outputs": [
    {
     "data": {
      "text/html": [
       "<a href='MatchingResult.pptx' target='_blank'>MatchingResult.pptx</a><br>"
      ],
      "text/plain": [
       "C:\\Users\\steve\\source\\repos\\uk_covid_slides_python\\MatchingResult.pptx"
      ]
     },
     "metadata": {},
     "output_type": "display_data"
    }
   ],
   "source": [
    "local_file = FileLink(\"MatchingResult.pptx\")\n",
    "display(local_file)"
   ]
  },
  {
   "cell_type": "code",
   "execution_count": null,
   "id": "transparent-shirt",
   "metadata": {},
   "outputs": [],
   "source": []
  }
 ],
 "metadata": {
  "kernelspec": {
   "display_name": "Python 3",
   "language": "python",
   "name": "python3"
  },
  "language_info": {
   "codemirror_mode": {
    "name": "ipython",
    "version": 3
   },
   "file_extension": ".py",
   "mimetype": "text/x-python",
   "name": "python",
   "nbconvert_exporter": "python",
   "pygments_lexer": "ipython3",
   "version": "3.8.6"
  }
 },
 "nbformat": 4,
 "nbformat_minor": 5
}
