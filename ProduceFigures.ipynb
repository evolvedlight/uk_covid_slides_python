{
 "cells": [
  {
   "cell_type": "code",
   "execution_count": 1,
   "id": "crazy-crossing",
   "metadata": {},
   "outputs": [],
   "source": [
    "import slidetemplater.api"
   ]
  },
  {
   "cell_type": "code",
   "execution_count": 2,
   "id": "lightweight-circulation",
   "metadata": {},
   "outputs": [],
   "source": [
    "data = { 'PctAvoidedContact': 89, 'PctFaceCoverings': 97, 'PctWashingHands': 90  }"
   ]
  },
  {
   "cell_type": "code",
   "execution_count": 3,
   "id": "martial-israel",
   "metadata": {},
   "outputs": [
    {
     "name": "stdout",
     "output_type": "stream",
     "text": [
      "{'JsonData': '{\"PctAvoidedContact\": 89, \"PctFaceCoverings\": 97, \"PctWashingHands\": 90}'}\n"
     ]
    }
   ],
   "source": [
    "result = slidetemplater.api.convert(open('Matching.pptx', 'rb'), data = data)"
   ]
  },
  {
   "cell_type": "code",
   "execution_count": 4,
   "id": "curious-convergence",
   "metadata": {},
   "outputs": [],
   "source": [
    "f = open('MatchingResult.pptx', 'w+b')\n",
    "f.write(result)\n",
    "f.close()"
   ]
  }
 ],
 "metadata": {
  "kernelspec": {
   "display_name": "Python 3",
   "language": "python",
   "name": "python3"
  },
  "language_info": {
   "codemirror_mode": {
    "name": "ipython",
    "version": 3
   },
   "file_extension": ".py",
   "mimetype": "text/x-python",
   "name": "python",
   "nbconvert_exporter": "python",
   "pygments_lexer": "ipython3",
   "version": "3.8.6"
  }
 },
 "nbformat": 4,
 "nbformat_minor": 5
}
